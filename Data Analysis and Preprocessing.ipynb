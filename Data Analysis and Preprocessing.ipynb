{
 "cells": [
  {
   "cell_type": "code",
   "execution_count": 1,
   "id": "b27f0d52",
   "metadata": {},
   "outputs": [],
   "source": [
    "import pandas as pd\n",
    "import numpy as np\n",
    "from sklearn.model_selection import train_test_split\n",
    "from sklearn.preprocessing import StandardScaler, OneHotEncoder\n",
    "from sklearn.impute import SimpleImputer"
   ]
  },
  {
   "cell_type": "markdown",
   "id": "fe242bd6",
   "metadata": {},
   "source": [
    "#  Load datasets"
   ]
  },
  {
   "cell_type": "code",
   "execution_count": 2,
   "id": "1cf7d386",
   "metadata": {},
   "outputs": [],
   "source": [
    "# Load datasets\n",
    "fraud_data = pd.read_csv('../data/Fraud_Data.csv')\n",
    "ip_country_data = pd.read_csv('../data/IpAddress_to_Country.csv')\n",
    "creditcard_data = pd.read_csv('../data/creditcard.csv')"
   ]
  },
  {
   "cell_type": "markdown",
   "id": "488cc0ff",
   "metadata": {},
   "source": [
    "#  Handle Missing Values"
   ]
  },
  {
   "cell_type": "code",
   "execution_count": 3,
   "id": "8a476e15",
   "metadata": {},
   "outputs": [],
   "source": [
    "# 1. Handle Missing Values\n",
    "# Impute missing values for numerical features\n",
    "imputer = SimpleImputer(strategy='median')\n",
    "fraud_data[['age', 'purchase_value']] = imputer.fit_transform(fraud_data[['age', 'purchase_value']])"
   ]
  },
  {
   "cell_type": "code",
   "execution_count": 4,
   "id": "f151b24c",
   "metadata": {},
   "outputs": [],
   "source": [
    "# Drop rows with missing values in categorical features\n",
    "fraud_data.dropna(subset=['device_id', 'source', 'browser', 'sex'], inplace=True)"
   ]
  },
  {
   "cell_type": "markdown",
   "id": "bb8d0ec2",
   "metadata": {},
   "source": [
    "# Data Cleaning"
   ]
  },
  {
   "cell_type": "code",
   "execution_count": 5,
   "id": "d37d9663",
   "metadata": {},
   "outputs": [],
   "source": [
    "# 2. Data Cleaning\n",
    "# Remove duplicates\n",
    "fraud_data.drop_duplicates(inplace=True)"
   ]
  },
  {
   "cell_type": "code",
   "execution_count": 7,
   "id": "0b927d56",
   "metadata": {},
   "outputs": [],
   "source": [
    "# Correct data types\n",
    "fraud_data['signup_time'] = pd.to_datetime(fraud_data['signup_time'])\n",
    "fraud_data['purchase_time'] = pd.to_datetime(fraud_data['purchase_time'])"
   ]
  },
  {
   "cell_type": "markdown",
   "id": "453e209b",
   "metadata": {},
   "source": [
    "#  Exploratory Data Analysis (EDA)"
   ]
  },
  {
   "cell_type": "code",
   "execution_count": 8,
   "id": "6b77541b",
   "metadata": {},
   "outputs": [
    {
     "data": {
      "text/html": [
       "<div>\n",
       "<style scoped>\n",
       "    .dataframe tbody tr th:only-of-type {\n",
       "        vertical-align: middle;\n",
       "    }\n",
       "\n",
       "    .dataframe tbody tr th {\n",
       "        vertical-align: top;\n",
       "    }\n",
       "\n",
       "    .dataframe thead th {\n",
       "        text-align: right;\n",
       "    }\n",
       "</style>\n",
       "<table border=\"1\" class=\"dataframe\">\n",
       "  <thead>\n",
       "    <tr style=\"text-align: right;\">\n",
       "      <th></th>\n",
       "      <th>user_id</th>\n",
       "      <th>purchase_value</th>\n",
       "      <th>age</th>\n",
       "      <th>ip_address</th>\n",
       "      <th>class</th>\n",
       "    </tr>\n",
       "  </thead>\n",
       "  <tbody>\n",
       "    <tr>\n",
       "      <th>count</th>\n",
       "      <td>151112.000000</td>\n",
       "      <td>151112.000000</td>\n",
       "      <td>151112.000000</td>\n",
       "      <td>1.511120e+05</td>\n",
       "      <td>151112.000000</td>\n",
       "    </tr>\n",
       "    <tr>\n",
       "      <th>mean</th>\n",
       "      <td>200171.040970</td>\n",
       "      <td>36.935372</td>\n",
       "      <td>33.140704</td>\n",
       "      <td>2.152145e+09</td>\n",
       "      <td>0.093646</td>\n",
       "    </tr>\n",
       "    <tr>\n",
       "      <th>std</th>\n",
       "      <td>115369.285024</td>\n",
       "      <td>18.322762</td>\n",
       "      <td>8.617733</td>\n",
       "      <td>1.248497e+09</td>\n",
       "      <td>0.291336</td>\n",
       "    </tr>\n",
       "    <tr>\n",
       "      <th>min</th>\n",
       "      <td>2.000000</td>\n",
       "      <td>9.000000</td>\n",
       "      <td>18.000000</td>\n",
       "      <td>5.209350e+04</td>\n",
       "      <td>0.000000</td>\n",
       "    </tr>\n",
       "    <tr>\n",
       "      <th>25%</th>\n",
       "      <td>100642.500000</td>\n",
       "      <td>22.000000</td>\n",
       "      <td>27.000000</td>\n",
       "      <td>1.085934e+09</td>\n",
       "      <td>0.000000</td>\n",
       "    </tr>\n",
       "    <tr>\n",
       "      <th>50%</th>\n",
       "      <td>199958.000000</td>\n",
       "      <td>35.000000</td>\n",
       "      <td>33.000000</td>\n",
       "      <td>2.154770e+09</td>\n",
       "      <td>0.000000</td>\n",
       "    </tr>\n",
       "    <tr>\n",
       "      <th>75%</th>\n",
       "      <td>300054.000000</td>\n",
       "      <td>49.000000</td>\n",
       "      <td>39.000000</td>\n",
       "      <td>3.243258e+09</td>\n",
       "      <td>0.000000</td>\n",
       "    </tr>\n",
       "    <tr>\n",
       "      <th>max</th>\n",
       "      <td>400000.000000</td>\n",
       "      <td>154.000000</td>\n",
       "      <td>76.000000</td>\n",
       "      <td>4.294850e+09</td>\n",
       "      <td>1.000000</td>\n",
       "    </tr>\n",
       "  </tbody>\n",
       "</table>\n",
       "</div>"
      ],
      "text/plain": [
       "             user_id  purchase_value            age    ip_address  \\\n",
       "count  151112.000000   151112.000000  151112.000000  1.511120e+05   \n",
       "mean   200171.040970       36.935372      33.140704  2.152145e+09   \n",
       "std    115369.285024       18.322762       8.617733  1.248497e+09   \n",
       "min         2.000000        9.000000      18.000000  5.209350e+04   \n",
       "25%    100642.500000       22.000000      27.000000  1.085934e+09   \n",
       "50%    199958.000000       35.000000      33.000000  2.154770e+09   \n",
       "75%    300054.000000       49.000000      39.000000  3.243258e+09   \n",
       "max    400000.000000      154.000000      76.000000  4.294850e+09   \n",
       "\n",
       "               class  \n",
       "count  151112.000000  \n",
       "mean        0.093646  \n",
       "std         0.291336  \n",
       "min         0.000000  \n",
       "25%         0.000000  \n",
       "50%         0.000000  \n",
       "75%         0.000000  \n",
       "max         1.000000  "
      ]
     },
     "execution_count": 8,
     "metadata": {},
     "output_type": "execute_result"
    }
   ],
   "source": [
    "# 3. Exploratory Data Analysis (EDA)\n",
    "# Univariate analysis\n",
    "fraud_data.describe()\n"
   ]
  },
  {
   "cell_type": "code",
   "execution_count": 9,
   "id": "d32c6821",
   "metadata": {},
   "outputs": [
    {
     "data": {
      "text/html": [
       "<div>\n",
       "<style scoped>\n",
       "    .dataframe tbody tr th:only-of-type {\n",
       "        vertical-align: middle;\n",
       "    }\n",
       "\n",
       "    .dataframe tbody tr th {\n",
       "        vertical-align: top;\n",
       "    }\n",
       "\n",
       "    .dataframe thead th {\n",
       "        text-align: right;\n",
       "    }\n",
       "</style>\n",
       "<table border=\"1\" class=\"dataframe\">\n",
       "  <thead>\n",
       "    <tr style=\"text-align: right;\">\n",
       "      <th></th>\n",
       "      <th>count</th>\n",
       "      <th>mean</th>\n",
       "      <th>std</th>\n",
       "      <th>min</th>\n",
       "      <th>25%</th>\n",
       "      <th>50%</th>\n",
       "      <th>75%</th>\n",
       "      <th>max</th>\n",
       "    </tr>\n",
       "    <tr>\n",
       "      <th>class</th>\n",
       "      <th></th>\n",
       "      <th></th>\n",
       "      <th></th>\n",
       "      <th></th>\n",
       "      <th></th>\n",
       "      <th></th>\n",
       "      <th></th>\n",
       "      <th></th>\n",
       "    </tr>\n",
       "  </thead>\n",
       "  <tbody>\n",
       "    <tr>\n",
       "      <th>0</th>\n",
       "      <td>136961.0</td>\n",
       "      <td>36.929418</td>\n",
       "      <td>18.315064</td>\n",
       "      <td>9.0</td>\n",
       "      <td>22.0</td>\n",
       "      <td>35.0</td>\n",
       "      <td>49.0</td>\n",
       "      <td>154.0</td>\n",
       "    </tr>\n",
       "    <tr>\n",
       "      <th>1</th>\n",
       "      <td>14151.0</td>\n",
       "      <td>36.993004</td>\n",
       "      <td>18.397654</td>\n",
       "      <td>9.0</td>\n",
       "      <td>22.0</td>\n",
       "      <td>35.0</td>\n",
       "      <td>49.0</td>\n",
       "      <td>111.0</td>\n",
       "    </tr>\n",
       "  </tbody>\n",
       "</table>\n",
       "</div>"
      ],
      "text/plain": [
       "          count       mean        std  min   25%   50%   75%    max\n",
       "class                                                              \n",
       "0      136961.0  36.929418  18.315064  9.0  22.0  35.0  49.0  154.0\n",
       "1       14151.0  36.993004  18.397654  9.0  22.0  35.0  49.0  111.0"
      ]
     },
     "execution_count": 9,
     "metadata": {},
     "output_type": "execute_result"
    }
   ],
   "source": [
    "# Bivariate analysis (example: purchase_value vs class)\n",
    "fraud_data.groupby('class')['purchase_value'].describe()"
   ]
  },
  {
   "cell_type": "code",
   "execution_count": 13,
   "id": "91e8791c",
   "metadata": {},
   "outputs": [],
   "source": [
    "# Function to convert IP address to integer\n",
    "def ip_to_int(ip):\n",
    "    try:\n",
    "        parts = ip.split('.')\n",
    "        return int(parts[0]) * 16777216 + int(parts[1]) * 65536 + int(parts[2]) * 256 + int(parts[3])\n",
    "    except (AttributeError, IndexError, ValueError):\n",
    "        return None"
   ]
  },
  {
   "cell_type": "code",
   "execution_count": 14,
   "id": "a2ee69b2",
   "metadata": {},
   "outputs": [],
   "source": [
    "# Convert IP addresses to integer format\n",
    "fraud_data['ip_address'] = fraud_data['ip_address'].apply(lambda x: ip_to_int(str(x)) if pd.notna(x) else x)\n",
    "ip_country_data['lower_bound_ip_address'] = ip_country_data['lower_bound_ip_address'].apply(lambda x: ip_to_int(str(x)) if pd.notna(x) else x)\n",
    "ip_country_data['upper_bound_ip_address'] = ip_country_data['upper_bound_ip_address'].apply(lambda x: ip_to_int(str(x)) if pd.notna(x) else x)"
   ]
  },
  {
   "cell_type": "markdown",
   "id": "7a0d7125",
   "metadata": {},
   "source": [
    "#  Exploratory Data Analysis (EDA)"
   ]
  },
  {
   "cell_type": "code",
   "execution_count": 15,
   "id": "41e67bf2",
   "metadata": {},
   "outputs": [],
   "source": [
    "# Merge fraud data with IP to country data\n",
    "def map_ip_to_country(ip):\n",
    "    if pd.isna(ip):\n",
    "        return None\n",
    "    matching_rows = ip_country_data[(ip_country_data['lower_bound_ip_address'] <= ip) & (ip_country_data['upper_bound_ip_address'] >= ip)]\n",
    "    if not matching_rows.empty:\n",
    "        return matching_rows.iloc[0]['country']\n",
    "    return None"
   ]
  },
  {
   "cell_type": "code",
   "execution_count": 16,
   "id": "288812fc",
   "metadata": {},
   "outputs": [],
   "source": [
    "fraud_data['country'] = fraud_data['ip_address'].apply(map_ip_to_country)"
   ]
  },
  {
   "cell_type": "markdown",
   "id": "e3f14667",
   "metadata": {},
   "source": [
    "# Feature Engineering"
   ]
  },
  {
   "cell_type": "code",
   "execution_count": 17,
   "id": "5eb24da7",
   "metadata": {},
   "outputs": [],
   "source": [
    "# Feature Engineering\n",
    "# Transaction frequency and velocity\n",
    "fraud_data['transaction_count'] = fraud_data.groupby('user_id')['user_id'].transform('count')\n",
    "fraud_data['transaction_velocity'] = fraud_data.groupby('user_id')['purchase_time'].diff().dt.total_seconds()"
   ]
  },
  {
   "cell_type": "code",
   "execution_count": 18,
   "id": "9b015a85",
   "metadata": {},
   "outputs": [],
   "source": [
    "# Time-Based features\n",
    "fraud_data['hour_of_day'] = fraud_data['purchase_time'].dt.hour\n",
    "fraud_data['day_of_week'] = fraud_data['purchase_time'].dt.dayofweek"
   ]
  },
  {
   "cell_type": "code",
   "execution_count": 19,
   "id": "9b7d4229",
   "metadata": {},
   "outputs": [
    {
     "name": "stderr",
     "output_type": "stream",
     "text": [
      "C:\\Users\\eyosi\\AppData\\Local\\anaconda3\\lib\\site-packages\\sklearn\\utils\\extmath.py:1047: RuntimeWarning: invalid value encountered in divide\n",
      "  updated_mean = (last_sum + new_sum) / updated_sample_count\n",
      "C:\\Users\\eyosi\\AppData\\Local\\anaconda3\\lib\\site-packages\\sklearn\\utils\\extmath.py:1052: RuntimeWarning: invalid value encountered in divide\n",
      "  T = new_sum / new_sample_count\n",
      "C:\\Users\\eyosi\\AppData\\Local\\anaconda3\\lib\\site-packages\\sklearn\\utils\\extmath.py:1072: RuntimeWarning: invalid value encountered in divide\n",
      "  new_unnormalized_variance -= correction**2 / new_sample_count\n"
     ]
    }
   ],
   "source": [
    "# Normalization and Scaling\n",
    "# Standardize numerical features\n",
    "scaler = StandardScaler()\n",
    "numerical_features = ['purchase_value', 'age', 'transaction_count', 'transaction_velocity', 'hour_of_day']\n",
    "fraud_data[numerical_features] = scaler.fit_transform(fraud_data[numerical_features])\n"
   ]
  },
  {
   "cell_type": "code",
   "execution_count": 21,
   "id": "fd2c3fa9",
   "metadata": {},
   "outputs": [],
   "source": [
    "# Frequency Encoding for categorical features\n",
    "categorical_features = ['device_id', 'source', 'browser', 'sex', 'country']\n",
    "for feature in categorical_features:\n",
    "    freq_encoding = fraud_data[feature].value_counts().to_dict()\n",
    "    fraud_data[feature + '_freq'] = fraud_data[feature].map(freq_encoding)"
   ]
  },
  {
   "cell_type": "code",
   "execution_count": 22,
   "id": "7ee61925",
   "metadata": {},
   "outputs": [],
   "source": [
    "\n",
    "# Drop original categorical columns\n",
    "fraud_data.drop(columns=categorical_features, inplace=True)"
   ]
  },
  {
   "cell_type": "code",
   "execution_count": 23,
   "id": "cb6324e8",
   "metadata": {},
   "outputs": [
    {
     "name": "stderr",
     "output_type": "stream",
     "text": [
      "C:\\Users\\eyosi\\AppData\\Local\\anaconda3\\lib\\site-packages\\sklearn\\utils\\extmath.py:1047: RuntimeWarning: invalid value encountered in divide\n",
      "  updated_mean = (last_sum + new_sum) / updated_sample_count\n",
      "C:\\Users\\eyosi\\AppData\\Local\\anaconda3\\lib\\site-packages\\sklearn\\utils\\extmath.py:1052: RuntimeWarning: invalid value encountered in divide\n",
      "  T = new_sum / new_sample_count\n",
      "C:\\Users\\eyosi\\AppData\\Local\\anaconda3\\lib\\site-packages\\sklearn\\utils\\extmath.py:1072: RuntimeWarning: invalid value encountered in divide\n",
      "  new_unnormalized_variance -= correction**2 / new_sample_count\n"
     ]
    }
   ],
   "source": [
    "# Normalization and Scaling\n",
    "# Standardize numerical features\n",
    "scaler = StandardScaler()\n",
    "numerical_features = ['purchase_value', 'age', 'transaction_count', 'transaction_velocity', 'hour_of_day', 'device_id_freq', 'source_freq', 'browser_freq', 'sex_freq', 'country_freq']\n",
    "fraud_data[numerical_features] = scaler.fit_transform(fraud_data[numerical_features])"
   ]
  },
  {
   "cell_type": "code",
   "execution_count": 25,
   "id": "58be41b2",
   "metadata": {},
   "outputs": [],
   "source": [
    "# Save preprocessed data\n",
    "fraud_data.to_csv('../data/preprocessed_fraud_data.csv', index=False)"
   ]
  },
  {
   "cell_type": "code",
   "execution_count": null,
   "id": "d12a8c37",
   "metadata": {},
   "outputs": [],
   "source": []
  }
 ],
 "metadata": {
  "kernelspec": {
   "display_name": "Python 3 (ipykernel)",
   "language": "python",
   "name": "python3"
  },
  "language_info": {
   "codemirror_mode": {
    "name": "ipython",
    "version": 3
   },
   "file_extension": ".py",
   "mimetype": "text/x-python",
   "name": "python",
   "nbconvert_exporter": "python",
   "pygments_lexer": "ipython3",
   "version": "3.10.9"
  }
 },
 "nbformat": 4,
 "nbformat_minor": 5
}
